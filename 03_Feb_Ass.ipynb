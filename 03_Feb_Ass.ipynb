{
 "cells": [
  {
   "cell_type": "markdown",
   "id": "2dbdc2d8-7fbe-443e-a49a-cb07d484950c",
   "metadata": {},
   "source": [
    "## Which keyword is used to create a function? Create a function to return a list of odd numbers in the range of 1 to 25."
   ]
  },
  {
   "cell_type": "code",
   "execution_count": 1,
   "id": "1ec5d15f-9423-4311-a386-05abe118c0f8",
   "metadata": {},
   "outputs": [
    {
     "name": "stdout",
     "output_type": "stream",
     "text": [
      "[1, 3, 5, 7, 9, 11, 13, 15, 17, 19, 21, 23, 25]\n"
     ]
    }
   ],
   "source": [
    "# The def keyword is used to create function in python.\n",
    "def get_odd_numbers():\n",
    "    odd_numbers = []\n",
    "    for num in range(1, 26):\n",
    "        if num % 2 != 0:\n",
    "            odd_numbers.append(num)\n",
    "    return odd_numbers\n",
    "\n",
    "# Call the function and store the result in a variable\n",
    "result = get_odd_numbers()\n",
    "\n",
    "# Print the list of odd numbers\n",
    "print(result)\n"
   ]
  },
  {
   "cell_type": "markdown",
   "id": "e9c33c0c-ae5a-42a2-8369-b754c1ce7db9",
   "metadata": {},
   "source": [
    "## Q2. Why *args and **kwargs is used in some functions? Create a function each for *args and **kwargs to demonstrate their use."
   ]
  },
  {
   "cell_type": "raw",
   "id": "d53f4ba5-73c3-440a-b7d7-13ab193b9255",
   "metadata": {},
   "source": [
    "The *args and **kwargs are used in Python functions when we want to pass a variable number of arguments to the function."
   ]
  },
  {
   "cell_type": "code",
   "execution_count": 2,
   "id": "e90557bf-5561-49b5-9f38-fdb6851b69ad",
   "metadata": {},
   "outputs": [
    {
     "name": "stdout",
     "output_type": "stream",
     "text": [
      "Hello, krish\n",
      "Hello, dev\n",
      "Hello, nikhil\n"
     ]
    }
   ],
   "source": [
    "# The *args syntax allows us to pass multiple positional arguments to a function.\n",
    "def greet(*args):\n",
    "    for name in args:\n",
    "        print(\"Hello,\", name)\n",
    "\n",
    "greet(\"krish\", \"dev\", \"nikhil\")\n"
   ]
  },
  {
   "cell_type": "code",
   "execution_count": 3,
   "id": "ab326dea-d783-4242-9b99-dbeb0b206dfe",
   "metadata": {},
   "outputs": [
    {
     "name": "stdout",
     "output_type": "stream",
     "text": [
      "name: krish\n",
      "age: 25\n",
      "city: delhi\n"
     ]
    }
   ],
   "source": [
    "# **kwargs allows us to pass multiple keyword arguments to a function. It collects all the keyword arguments into a dictionary\n",
    "def print_details(**kwargs):\n",
    "    for key, value in kwargs.items():\n",
    "        print(key + \": \" + value)\n",
    "\n",
    "print_details(name=\"krish\", age=\"25\", city=\"delhi\")\n"
   ]
  },
  {
   "cell_type": "markdown",
   "id": "442d4631-f5df-4ff3-aba0-3883fa4d509e",
   "metadata": {},
   "source": [
    "## Q3. What is an iterator in python? Name the method used to initialise the iterator object and the method used for iteration. Use these methods to print the first five elements of the given list [2, 4, 6, 8, 10, 12, 14, 16, 18, 20]."
   ]
  },
  {
   "cell_type": "raw",
   "id": "fc3bcc11-5e5c-41d2-ade4-316e736f22c5",
   "metadata": {},
   "source": [
    "An iterator is an object that implements the iterator protocol, which consists of the iter() method and the next() method. An iterator allows us to iterate over a sequence of elements, such as a list, tuple, or custom-defined object, one element at a time.\n",
    "\n",
    "To initialize an iterator object, we use the iter() function, which takes an iterable object as an argument and returns an iterator."
   ]
  },
  {
   "cell_type": "code",
   "execution_count": 7,
   "id": "c7c5cf17-3517-4ef1-90b4-a6b42bbf40d9",
   "metadata": {},
   "outputs": [
    {
     "name": "stdout",
     "output_type": "stream",
     "text": [
      "2\n",
      "4\n",
      "6\n",
      "8\n",
      "10\n"
     ]
    }
   ],
   "source": [
    "my_list = [2, 4, 6, 8, 10, 12, 14, 16, 18, 20]\n",
    "\n",
    "\n",
    "my_iter = iter(my_list)\n",
    "\n",
    "for i in range(5):\n",
    "    element = next(my_iter)\n",
    "    print(element)\n"
   ]
  },
  {
   "cell_type": "markdown",
   "id": "715cf46a-388c-414f-8fda-d8229de8d8be",
   "metadata": {},
   "source": [
    "## Q4. What is a generator function in python? Why yield keyword is used? Give an example of a generator function."
   ]
  },
  {
   "cell_type": "raw",
   "id": "61f740de-d3f0-40cc-b417-3f821fceee96",
   "metadata": {},
   "source": [
    "a generator function is a special type of function that returns an iterator object, which can be iterated over to retrieve values one at a time. It is defined using the def keyword, similar to regular functions, but instead of using the return keyword, it uses the yield keyword to produce a sequence of values."
   ]
  },
  {
   "cell_type": "code",
   "execution_count": 8,
   "id": "87a45a98-86d3-4367-ba96-21f4757d3332",
   "metadata": {},
   "outputs": [
    {
     "name": "stdout",
     "output_type": "stream",
     "text": [
      "0\n",
      "2\n",
      "4\n",
      "6\n",
      "8\n"
     ]
    }
   ],
   "source": [
    "def even_numbers(n):\n",
    "    for num in range(n):\n",
    "        if num % 2 == 0:\n",
    "            yield num\n",
    "            \n",
    "my_generator = even_numbers(10)\n",
    "\n",
    "for num in my_generator:\n",
    "    print(num)\n"
   ]
  },
  {
   "cell_type": "markdown",
   "id": "ca3f2d35-393b-4a74-8414-87c528a08daa",
   "metadata": {},
   "source": [
    "## Q5. Create a generator function for prime numbers less than 1000. Use the next() method to print the first 20 prime numbers."
   ]
  },
  {
   "cell_type": "code",
   "execution_count": 9,
   "id": "39663166-7401-49fe-95d6-af69200c8661",
   "metadata": {},
   "outputs": [
    {
     "name": "stdout",
     "output_type": "stream",
     "text": [
      "2\n",
      "3\n",
      "5\n",
      "7\n",
      "11\n",
      "13\n",
      "17\n",
      "19\n",
      "23\n",
      "29\n",
      "31\n",
      "37\n",
      "41\n",
      "43\n",
      "47\n",
      "53\n",
      "59\n",
      "61\n",
      "67\n",
      "71\n"
     ]
    }
   ],
   "source": [
    "def prime_generator():\n",
    "    primes = []\n",
    "    num = 2\n",
    "\n",
    "    while True:\n",
    "        is_prime = True\n",
    "\n",
    "        for prime in primes:\n",
    "            if num % prime == 0:\n",
    "                is_prime = False\n",
    "                break\n",
    "\n",
    "        if is_prime:\n",
    "            primes.append(num)\n",
    "            yield num\n",
    "\n",
    "        num += 1\n",
    "\n",
    "prime_gen = prime_generator()\n",
    "\n",
    "for _ in range(20):\n",
    "    prime = next(prime_gen)\n",
    "    print(prime)\n"
   ]
  },
  {
   "cell_type": "markdown",
   "id": "74fec960-351b-4956-a455-9c009e9b99c6",
   "metadata": {},
   "source": [
    "## Q6. Write a python program to print the first 10 Fibonacci numbers using a while loop."
   ]
  },
  {
   "cell_type": "code",
   "execution_count": 10,
   "id": "ca27ffc6-6b8c-4ac6-892b-82af82474fde",
   "metadata": {},
   "outputs": [
    {
     "name": "stdout",
     "output_type": "stream",
     "text": [
      "0\n",
      "1\n",
      "1\n",
      "2\n",
      "3\n",
      "5\n",
      "8\n",
      "13\n",
      "21\n",
      "34\n"
     ]
    }
   ],
   "source": [
    "\n",
    "def print_fibonacci():\n",
    "    n = 10  \n",
    "    count = 0 \n",
    "    first = 0  \n",
    "    second = 1  \n",
    "    print(first)\n",
    "    print(second)\n",
    "\n",
    "    while count < n - 2:\n",
    "        next_num = first + second \n",
    "        print(next_num)\n",
    "        first = second\n",
    "        second = next_num\n",
    "        count += 1\n",
    "\n",
    "print_fibonacci()\n"
   ]
  },
  {
   "cell_type": "markdown",
   "id": "ccb7250d-3541-478d-8221-9e1ca39ef1d1",
   "metadata": {},
   "source": [
    "## Q7. Write a List Comprehension to iterate through the given string: ‘pwskills’. Expected output: ['p', 'w', 's', 'k', 'i', 'l', 'l', 's']"
   ]
  },
  {
   "cell_type": "code",
   "execution_count": 11,
   "id": "a1370573-f83c-4bf0-991c-a9f60924a80c",
   "metadata": {},
   "outputs": [
    {
     "name": "stdout",
     "output_type": "stream",
     "text": [
      "['p', 'w', 's', 'k', 'i', 'l', 'l', 's']\n"
     ]
    }
   ],
   "source": [
    "string = 'pwskills'\n",
    "result = [char for char in string]\n",
    "print(result)\n"
   ]
  },
  {
   "cell_type": "markdown",
   "id": "881a571f-6b62-42cc-813f-bb5ecfc226f6",
   "metadata": {},
   "source": [
    "## Q8. Write a python program to check whether a given number is Palindrome or not using a while loop."
   ]
  },
  {
   "cell_type": "code",
   "execution_count": 12,
   "id": "810ee667-c646-4c76-8891-ac84c8c3e15d",
   "metadata": {},
   "outputs": [
    {
     "name": "stdin",
     "output_type": "stream",
     "text": [
      "Enter a number:  121\n"
     ]
    },
    {
     "name": "stdout",
     "output_type": "stream",
     "text": [
      "121 is a palindrome\n"
     ]
    }
   ],
   "source": [
    "def is_palindrome(number):\n",
    "    original_number = number\n",
    "    reversed_number = 0\n",
    "\n",
    "    while number > 0:\n",
    "        digit = number % 10\n",
    "        reversed_number = (reversed_number * 10) + digit\n",
    "        number = number // 10\n",
    "\n",
    "    if original_number == reversed_number:\n",
    "        return True\n",
    "    else:\n",
    "        return False\n",
    "\n",
    "num = int(input(\"Enter a number: \"))\n",
    "if is_palindrome(num):\n",
    "    print(num, \"is a palindrome\")\n",
    "else:\n",
    "    print(num, \"is not a palindrome\")\n"
   ]
  },
  {
   "cell_type": "markdown",
   "id": "9b0dc034-6ff6-4274-b5ba-b9df0ef44490",
   "metadata": {},
   "source": [
    "## Q9. Write a code to print odd numbers from 1 to 100 using list comprehension."
   ]
  },
  {
   "cell_type": "code",
   "execution_count": 14,
   "id": "7e86b7e2-6a22-4712-b273-514a2b0e9035",
   "metadata": {},
   "outputs": [
    {
     "name": "stdout",
     "output_type": "stream",
     "text": [
      "[1, 3, 5, 7, 9, 11, 13, 15, 17, 19, 21, 23, 25, 27, 29, 31, 33, 35, 37, 39, 41, 43, 45, 47, 49, 51, 53, 55, 57, 59, 61, 63, 65, 67, 69, 71, 73, 75, 77, 79, 81, 83, 85, 87, 89, 91, 93, 95, 97, 99]\n"
     ]
    }
   ],
   "source": [
    "numbers = [num for num in range(1, 101)]\n",
    "odd_numbers = [num for num in numbers if num % 2 != 0]\n",
    "print(odd_numbers)\n"
   ]
  },
  {
   "cell_type": "code",
   "execution_count": null,
   "id": "73cda407-d02b-4f7a-9f96-f367b8a5c71a",
   "metadata": {},
   "outputs": [],
   "source": []
  }
 ],
 "metadata": {
  "kernelspec": {
   "display_name": "Python 3 (ipykernel)",
   "language": "python",
   "name": "python3"
  },
  "language_info": {
   "codemirror_mode": {
    "name": "ipython",
    "version": 3
   },
   "file_extension": ".py",
   "mimetype": "text/x-python",
   "name": "python",
   "nbconvert_exporter": "python",
   "pygments_lexer": "ipython3",
   "version": "3.10.8"
  }
 },
 "nbformat": 4,
 "nbformat_minor": 5
}
